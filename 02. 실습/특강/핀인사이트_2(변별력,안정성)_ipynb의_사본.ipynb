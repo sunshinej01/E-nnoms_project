{
 "cells": [
  {
   "cell_type": "code",
   "execution_count": 32,
   "metadata": {
    "id": "iC6923PFCdp2"
   },
   "outputs": [],
   "source": [
    "import pandas as pd\n",
    "# 오류가 있는 줄은 무시하고 파일 읽기\n",
    "df = pd.read_excel('sample_data.xlsx')"
   ]
  },
  {
   "cell_type": "code",
   "execution_count": 33,
   "metadata": {
    "colab": {
     "base_uri": "https://localhost:8080/",
     "height": 206
    },
    "id": "FBXUMMrCFjcK",
    "outputId": "e3938137-84fb-4a23-e181-820debccd4ba"
   },
   "outputs": [
    {
     "data": {
      "text/html": [
       "<div>\n",
       "<style scoped>\n",
       "    .dataframe tbody tr th:only-of-type {\n",
       "        vertical-align: middle;\n",
       "    }\n",
       "\n",
       "    .dataframe tbody tr th {\n",
       "        vertical-align: top;\n",
       "    }\n",
       "\n",
       "    .dataframe thead th {\n",
       "        text-align: right;\n",
       "    }\n",
       "</style>\n",
       "<table border=\"1\" class=\"dataframe\">\n",
       "  <thead>\n",
       "    <tr style=\"text-align: right;\">\n",
       "      <th></th>\n",
       "      <th>Unnamed: 0</th>\n",
       "      <th>ID</th>\n",
       "      <th>score</th>\n",
       "      <th>year_month</th>\n",
       "      <th>uniq_key</th>\n",
       "    </tr>\n",
       "  </thead>\n",
       "  <tbody>\n",
       "    <tr>\n",
       "      <th>0</th>\n",
       "      <td>0</td>\n",
       "      <td>S0005473355</td>\n",
       "      <td>0.247997</td>\n",
       "      <td>202201</td>\n",
       "      <td>S0005473355202201</td>\n",
       "    </tr>\n",
       "    <tr>\n",
       "      <th>1</th>\n",
       "      <td>1</td>\n",
       "      <td>S0120444760</td>\n",
       "      <td>0.140447</td>\n",
       "      <td>202201</td>\n",
       "      <td>S0120444760202201</td>\n",
       "    </tr>\n",
       "    <tr>\n",
       "      <th>2</th>\n",
       "      <td>2</td>\n",
       "      <td>S0171811650</td>\n",
       "      <td>0.274217</td>\n",
       "      <td>202201</td>\n",
       "      <td>S0171811650202201</td>\n",
       "    </tr>\n",
       "    <tr>\n",
       "      <th>3</th>\n",
       "      <td>3</td>\n",
       "      <td>S0153794821</td>\n",
       "      <td>0.192828</td>\n",
       "      <td>202201</td>\n",
       "      <td>S0153794821202201</td>\n",
       "    </tr>\n",
       "    <tr>\n",
       "      <th>4</th>\n",
       "      <td>4</td>\n",
       "      <td>S0132364005</td>\n",
       "      <td>0.340263</td>\n",
       "      <td>202201</td>\n",
       "      <td>S0132364005202201</td>\n",
       "    </tr>\n",
       "  </tbody>\n",
       "</table>\n",
       "</div>"
      ],
      "text/plain": [
       "   Unnamed: 0           ID     score  year_month           uniq_key\n",
       "0           0  S0005473355  0.247997      202201  S0005473355202201\n",
       "1           1  S0120444760  0.140447      202201  S0120444760202201\n",
       "2           2  S0171811650  0.274217      202201  S0171811650202201\n",
       "3           3  S0153794821  0.192828      202201  S0153794821202201\n",
       "4           4  S0132364005  0.340263      202201  S0132364005202201"
      ]
     },
     "execution_count": 33,
     "metadata": {},
     "output_type": "execute_result"
    }
   ],
   "source": [
    "df.head()"
   ]
  },
  {
   "cell_type": "code",
   "execution_count": 34,
   "metadata": {
    "colab": {
     "base_uri": "https://localhost:8080/"
    },
    "id": "nYcOKzHY2nCs",
    "outputId": "162282b5-960e-45f1-c14a-fb794eb4e49c"
   },
   "outputs": [
    {
     "name": "stdout",
     "output_type": "stream",
     "text": [
      "<class 'pandas.core.frame.DataFrame'>\n",
      "RangeIndex: 30000 entries, 0 to 29999\n",
      "Data columns (total 5 columns):\n",
      " #   Column      Non-Null Count  Dtype  \n",
      "---  ------      --------------  -----  \n",
      " 0   Unnamed: 0  30000 non-null  int64  \n",
      " 1   ID          30000 non-null  object \n",
      " 2   score       30000 non-null  float64\n",
      " 3   year_month  30000 non-null  int64  \n",
      " 4   uniq_key    30000 non-null  object \n",
      "dtypes: float64(1), int64(2), object(2)\n",
      "memory usage: 1.1+ MB\n"
     ]
    }
   ],
   "source": [
    "df.info()"
   ]
  },
  {
   "cell_type": "code",
   "execution_count": 35,
   "metadata": {
    "id": "cDGnX5tn3ZNG"
   },
   "outputs": [],
   "source": [
    "df['year_month'] = df['year_month'].astype(str)"
   ]
  },
  {
   "cell_type": "code",
   "execution_count": 36,
   "metadata": {
    "id": "aMMoa_qXD1HX"
   },
   "outputs": [],
   "source": [
    "# 스코어링\n",
    "import numpy as np\n",
    "def get_score(x, epsilon = 1e-15):\n",
    "    # epsilon을 사용하여 x의 값을 조정\n",
    "    x = np.clip(x,epsilon,1-epsilon)\n",
    "    #주어진 공식을 적용\n",
    "    if x> 0 :\n",
    "        score = np.round(633.8263394*np.log(x / (1-x)) +1392.0751693)\n",
    "    else:\n",
    "        score = 0\n",
    "    return score\n",
    "\n",
    "def get_score_g(x):\n",
    "\n",
    "    score = 0\n",
    "\n",
    "    if x >=940  : score = 940\n",
    "    elif x  >=830: score = 830\n",
    "    elif x  >=720 : score = 720\n",
    "    elif x  >=610 : score = 610\n",
    "    elif x  >=500 : score = 500\n",
    "    elif x  >=390: score = 390\n",
    "    elif x  >=280: score = 280\n",
    "    elif x  >=170 : score = 170\n",
    "    elif x  >=100 : score = 100\n",
    "    else : score= 0\n",
    "\n",
    "    return score"
   ]
  },
  {
   "cell_type": "code",
   "execution_count": 37,
   "metadata": {
    "id": "puBghyDBGfhO"
   },
   "outputs": [],
   "source": [
    "df_2201 = df[df['year_month']=='202201'].reset_index(drop=True)"
   ]
  },
  {
   "cell_type": "code",
   "execution_count": 38,
   "metadata": {
    "colab": {
     "base_uri": "https://localhost:8080/"
    },
    "id": "0jCQ_1BjEZI6",
    "outputId": "dcc8ab0a-8c89-4696-db8e-c8f428819518"
   },
   "outputs": [
    {
     "name": "stdout",
     "output_type": "stream",
     "text": [
      "CPU times: user 32.3 ms, sys: 638 μs, total: 32.9 ms\n",
      "Wall time: 32.4 ms\n"
     ]
    }
   ],
   "source": [
    "%%time\n",
    "df_2201['prob'] = df_2201['score']\n",
    "df_2201['score'] = df_2201['prob'].apply(lambda x :  get_score(x))\n",
    "df_2201['score_g'] = df_2201['score'].apply(lambda x :  get_score_g(x))\n",
    "df_2201['1000_score'] = df_2201['prob']*1000"
   ]
  },
  {
   "cell_type": "code",
   "execution_count": 39,
   "metadata": {
    "colab": {
     "base_uri": "https://localhost:8080/",
     "height": 206
    },
    "id": "_Fwi3s8CHY08",
    "outputId": "272ccb3b-7f70-4eec-8661-7f7006a3cd40"
   },
   "outputs": [
    {
     "data": {
      "text/html": [
       "<div>\n",
       "<style scoped>\n",
       "    .dataframe tbody tr th:only-of-type {\n",
       "        vertical-align: middle;\n",
       "    }\n",
       "\n",
       "    .dataframe tbody tr th {\n",
       "        vertical-align: top;\n",
       "    }\n",
       "\n",
       "    .dataframe thead th {\n",
       "        text-align: right;\n",
       "    }\n",
       "</style>\n",
       "<table border=\"1\" class=\"dataframe\">\n",
       "  <thead>\n",
       "    <tr style=\"text-align: right;\">\n",
       "      <th></th>\n",
       "      <th>Unnamed: 0</th>\n",
       "      <th>ID</th>\n",
       "      <th>score</th>\n",
       "      <th>year_month</th>\n",
       "      <th>uniq_key</th>\n",
       "      <th>prob</th>\n",
       "      <th>score_g</th>\n",
       "      <th>1000_score</th>\n",
       "    </tr>\n",
       "  </thead>\n",
       "  <tbody>\n",
       "    <tr>\n",
       "      <th>0</th>\n",
       "      <td>0</td>\n",
       "      <td>S0005473355</td>\n",
       "      <td>689.0</td>\n",
       "      <td>202201</td>\n",
       "      <td>S0005473355202201</td>\n",
       "      <td>0.247997</td>\n",
       "      <td>610</td>\n",
       "      <td>247.99660</td>\n",
       "    </tr>\n",
       "    <tr>\n",
       "      <th>1</th>\n",
       "      <td>1</td>\n",
       "      <td>S0120444760</td>\n",
       "      <td>244.0</td>\n",
       "      <td>202201</td>\n",
       "      <td>S0120444760202201</td>\n",
       "      <td>0.140447</td>\n",
       "      <td>170</td>\n",
       "      <td>140.44650</td>\n",
       "    </tr>\n",
       "    <tr>\n",
       "      <th>2</th>\n",
       "      <td>2</td>\n",
       "      <td>S0171811650</td>\n",
       "      <td>775.0</td>\n",
       "      <td>202201</td>\n",
       "      <td>S0171811650202201</td>\n",
       "      <td>0.274217</td>\n",
       "      <td>720</td>\n",
       "      <td>274.21710</td>\n",
       "    </tr>\n",
       "    <tr>\n",
       "      <th>3</th>\n",
       "      <td>3</td>\n",
       "      <td>S0153794821</td>\n",
       "      <td>485.0</td>\n",
       "      <td>202201</td>\n",
       "      <td>S0153794821202201</td>\n",
       "      <td>0.192828</td>\n",
       "      <td>390</td>\n",
       "      <td>192.82831</td>\n",
       "    </tr>\n",
       "    <tr>\n",
       "      <th>4</th>\n",
       "      <td>4</td>\n",
       "      <td>S0132364005</td>\n",
       "      <td>972.0</td>\n",
       "      <td>202201</td>\n",
       "      <td>S0132364005202201</td>\n",
       "      <td>0.340263</td>\n",
       "      <td>940</td>\n",
       "      <td>340.26330</td>\n",
       "    </tr>\n",
       "  </tbody>\n",
       "</table>\n",
       "</div>"
      ],
      "text/plain": [
       "   Unnamed: 0           ID  score year_month           uniq_key      prob  \\\n",
       "0           0  S0005473355  689.0     202201  S0005473355202201  0.247997   \n",
       "1           1  S0120444760  244.0     202201  S0120444760202201  0.140447   \n",
       "2           2  S0171811650  775.0     202201  S0171811650202201  0.274217   \n",
       "3           3  S0153794821  485.0     202201  S0153794821202201  0.192828   \n",
       "4           4  S0132364005  972.0     202201  S0132364005202201  0.340263   \n",
       "\n",
       "   score_g  1000_score  \n",
       "0      610   247.99660  \n",
       "1      170   140.44650  \n",
       "2      720   274.21710  \n",
       "3      390   192.82831  \n",
       "4      940   340.26330  "
      ]
     },
     "execution_count": 39,
     "metadata": {},
     "output_type": "execute_result"
    }
   ],
   "source": [
    "df_2201.head(5)"
   ]
  },
  {
   "cell_type": "code",
   "execution_count": 40,
   "metadata": {
    "colab": {
     "base_uri": "https://localhost:8080/",
     "height": 398
    },
    "id": "y5BoEMa0E0Cb",
    "outputId": "e424535d-7226-467c-fb49-d9c65b5ee389"
   },
   "outputs": [
    {
     "name": "stdout",
     "output_type": "stream",
     "text": [
      "CPU times: user 1.44 ms, sys: 631 μs, total: 2.07 ms\n",
      "Wall time: 1.78 ms\n"
     ]
    },
    {
     "data": {
      "text/html": [
       "<div>\n",
       "<style scoped>\n",
       "    .dataframe tbody tr th:only-of-type {\n",
       "        vertical-align: middle;\n",
       "    }\n",
       "\n",
       "    .dataframe tbody tr th {\n",
       "        vertical-align: top;\n",
       "    }\n",
       "\n",
       "    .dataframe thead th {\n",
       "        text-align: right;\n",
       "    }\n",
       "</style>\n",
       "<table border=\"1\" class=\"dataframe\">\n",
       "  <thead>\n",
       "    <tr style=\"text-align: right;\">\n",
       "      <th></th>\n",
       "      <th>score_g</th>\n",
       "      <th>sum</th>\n",
       "      <th>size</th>\n",
       "    </tr>\n",
       "  </thead>\n",
       "  <tbody>\n",
       "    <tr>\n",
       "      <th>9</th>\n",
       "      <td>940</td>\n",
       "      <td>373025.0</td>\n",
       "      <td>339</td>\n",
       "    </tr>\n",
       "    <tr>\n",
       "      <th>8</th>\n",
       "      <td>830</td>\n",
       "      <td>153682.0</td>\n",
       "      <td>174</td>\n",
       "    </tr>\n",
       "    <tr>\n",
       "      <th>7</th>\n",
       "      <td>720</td>\n",
       "      <td>315444.0</td>\n",
       "      <td>419</td>\n",
       "    </tr>\n",
       "    <tr>\n",
       "      <th>6</th>\n",
       "      <td>610</td>\n",
       "      <td>658472.0</td>\n",
       "      <td>979</td>\n",
       "    </tr>\n",
       "    <tr>\n",
       "      <th>5</th>\n",
       "      <td>500</td>\n",
       "      <td>530588.0</td>\n",
       "      <td>963</td>\n",
       "    </tr>\n",
       "    <tr>\n",
       "      <th>4</th>\n",
       "      <td>390</td>\n",
       "      <td>722162.0</td>\n",
       "      <td>1654</td>\n",
       "    </tr>\n",
       "    <tr>\n",
       "      <th>3</th>\n",
       "      <td>280</td>\n",
       "      <td>555300.0</td>\n",
       "      <td>1668</td>\n",
       "    </tr>\n",
       "    <tr>\n",
       "      <th>2</th>\n",
       "      <td>170</td>\n",
       "      <td>488884.0</td>\n",
       "      <td>2196</td>\n",
       "    </tr>\n",
       "    <tr>\n",
       "      <th>1</th>\n",
       "      <td>100</td>\n",
       "      <td>118004.0</td>\n",
       "      <td>851</td>\n",
       "    </tr>\n",
       "    <tr>\n",
       "      <th>0</th>\n",
       "      <td>0</td>\n",
       "      <td>-7831.0</td>\n",
       "      <td>757</td>\n",
       "    </tr>\n",
       "  </tbody>\n",
       "</table>\n",
       "</div>"
      ],
      "text/plain": [
       "   score_g       sum  size\n",
       "9      940  373025.0   339\n",
       "8      830  153682.0   174\n",
       "7      720  315444.0   419\n",
       "6      610  658472.0   979\n",
       "5      500  530588.0   963\n",
       "4      390  722162.0  1654\n",
       "3      280  555300.0  1668\n",
       "2      170  488884.0  2196\n",
       "1      100  118004.0   851\n",
       "0        0   -7831.0   757"
      ]
     },
     "execution_count": 40,
     "metadata": {},
     "output_type": "execute_result"
    }
   ],
   "source": [
    "%%time\n",
    "score_gr = df_2201.groupby(['score_g'])['score'].agg(['sum','size']).reset_index()\n",
    "df_score_1 = score_gr.sort_values(['score_g'],ascending=False)\n",
    "score_gr.sort_values(['score_g'],ascending=False)"
   ]
  },
  {
   "cell_type": "code",
   "execution_count": 41,
   "metadata": {
    "colab": {
     "base_uri": "https://localhost:8080/",
     "height": 587
    },
    "id": "SkIUB4LFGMRW",
    "outputId": "b1b32dcf-ffe3-4507-a901-a1b9b27a7368"
   },
   "outputs": [
    {
     "name": "stderr",
     "output_type": "stream",
     "text": [
      "<timed exec>:5: FutureWarning: \n",
      "\n",
      "`shade` is now deprecated in favor of `fill`; setting `fill=True`.\n",
      "This will become an error in seaborn v0.14.0; please update your code.\n",
      "\n"
     ]
    },
    {
     "data": {
      "image/png": "[encoded data removed]",
      "text/plain": [
       "<Figure size 1500x500 with 1 Axes>"
      ]
     },
     "metadata": {},
     "output_type": "display_data"
    },
    {
     "name": "stdout",
     "output_type": "stream",
     "text": [
      "CPU times: user 447 ms, sys: 79.6 ms, total: 527 ms\n",
      "Wall time: 81.4 ms\n"
     ]
    }
   ],
   "source": [
    "%%time\n",
    "import seaborn as sns\n",
    "import matplotlib.pyplot as plt\n",
    "\n",
    "plt.figure(figsize=(15,5))\n",
    "sns.kdeplot(df_2201['1000_score'],shade=True)\n",
    "plt.grid(True)\n",
    "plt.show()"
   ]
  },
  {
   "cell_type": "code",
   "execution_count": 42,
   "metadata": {
    "id": "KmrbnyOiG5Zd"
   },
   "outputs": [],
   "source": [
    "#len(df_split_2[df_split_2['1000_score']>=350])"
   ]
  },
  {
   "cell_type": "code",
   "execution_count": 43,
   "metadata": {
    "id": "gNi4ppSHKvil"
   },
   "outputs": [],
   "source": [
    "#len(df_split_2[df_split_2['1000_score']<=100])"
   ]
  },
  {
   "cell_type": "code",
   "execution_count": 44,
   "metadata": {
    "id": "dOyqclwGJysr"
   },
   "outputs": [],
   "source": [
    "#df_split_2[df_split_2['1000_score']<=350]['pred_proba'].max()"
   ]
  },
  {
   "cell_type": "code",
   "execution_count": 45,
   "metadata": {
    "id": "OgK15rZ1KBtS"
   },
   "outputs": [],
   "source": [
    "#df_split_2[df_split_2['1000_score']>=100]['pred_proba'].min()"
   ]
  },
  {
   "cell_type": "code",
   "execution_count": null,
   "metadata": {
    "id": "vkl3o3vPK2Ba"
   },
   "outputs": [],
   "source": []
  },
  {
   "cell_type": "code",
   "execution_count": null,
   "metadata": {
    "id": "EZsKk2CIMyB5"
   },
   "outputs": [],
   "source": []
  },
  {
   "cell_type": "code",
   "execution_count": 46,
   "metadata": {
    "id": "2jMK1k0YMyEW"
   },
   "outputs": [],
   "source": [
    "df_2203= df[df['year_month']=='202203']\n",
    "df_2205= df[df['year_month']=='202205']"
   ]
  },
  {
   "cell_type": "code",
   "execution_count": 47,
   "metadata": {
    "colab": {
     "base_uri": "https://localhost:8080/"
    },
    "id": "nkuRCGLEMyG5",
    "outputId": "633a9b9a-78de-4a0f-a9a6-4fdd838d1b62"
   },
   "outputs": [
    {
     "name": "stderr",
     "output_type": "stream",
     "text": [
      "<timed exec>:1: SettingWithCopyWarning: \n",
      "A value is trying to be set on a copy of a slice from a DataFrame.\n",
      "Try using .loc[row_indexer,col_indexer] = value instead\n",
      "\n",
      "See the caveats in the documentation: https://pandas.pydata.org/pandas-docs/stable/user_guide/indexing.html#returning-a-view-versus-a-copy\n"
     ]
    },
    {
     "name": "stdout",
     "output_type": "stream",
     "text": [
      "CPU times: user 233 ms, sys: 293 ms, total: 525 ms\n",
      "Wall time: 73.7 ms\n"
     ]
    },
    {
     "name": "stderr",
     "output_type": "stream",
     "text": [
      "<timed exec>:2: SettingWithCopyWarning: \n",
      "A value is trying to be set on a copy of a slice from a DataFrame.\n",
      "Try using .loc[row_indexer,col_indexer] = value instead\n",
      "\n",
      "See the caveats in the documentation: https://pandas.pydata.org/pandas-docs/stable/user_guide/indexing.html#returning-a-view-versus-a-copy\n",
      "<timed exec>:3: SettingWithCopyWarning: \n",
      "A value is trying to be set on a copy of a slice from a DataFrame.\n",
      "Try using .loc[row_indexer,col_indexer] = value instead\n",
      "\n",
      "See the caveats in the documentation: https://pandas.pydata.org/pandas-docs/stable/user_guide/indexing.html#returning-a-view-versus-a-copy\n",
      "<timed exec>:4: SettingWithCopyWarning: \n",
      "A value is trying to be set on a copy of a slice from a DataFrame.\n",
      "Try using .loc[row_indexer,col_indexer] = value instead\n",
      "\n",
      "See the caveats in the documentation: https://pandas.pydata.org/pandas-docs/stable/user_guide/indexing.html#returning-a-view-versus-a-copy\n"
     ]
    }
   ],
   "source": [
    "%%time\n",
    "df_2203['prob'] = df_2203['score']\n",
    "df_2203['score'] = df_2203['score'].apply(lambda x :  get_score(x))\n",
    "df_2203['score_g'] = df_2203['score'].apply(lambda x :  get_score_g(x))\n",
    "df_2203['1000_score'] = df_2203['prob']*1000"
   ]
  },
  {
   "cell_type": "code",
   "execution_count": 48,
   "metadata": {
    "colab": {
     "base_uri": "https://localhost:8080/"
    },
    "id": "MBXjQ5UUNBj5",
    "outputId": "88addbee-9cf3-4b9c-c40f-c673fc17a116"
   },
   "outputs": [
    {
     "name": "stdout",
     "output_type": "stream",
     "text": [
      "CPU times: user 129 ms, sys: 157 ms, total: 286 ms\n",
      "Wall time: 48.4 ms\n"
     ]
    },
    {
     "name": "stderr",
     "output_type": "stream",
     "text": [
      "<timed exec>:1: SettingWithCopyWarning: \n",
      "A value is trying to be set on a copy of a slice from a DataFrame.\n",
      "Try using .loc[row_indexer,col_indexer] = value instead\n",
      "\n",
      "See the caveats in the documentation: https://pandas.pydata.org/pandas-docs/stable/user_guide/indexing.html#returning-a-view-versus-a-copy\n",
      "<timed exec>:2: SettingWithCopyWarning: \n",
      "A value is trying to be set on a copy of a slice from a DataFrame.\n",
      "Try using .loc[row_indexer,col_indexer] = value instead\n",
      "\n",
      "See the caveats in the documentation: https://pandas.pydata.org/pandas-docs/stable/user_guide/indexing.html#returning-a-view-versus-a-copy\n",
      "<timed exec>:3: SettingWithCopyWarning: \n",
      "A value is trying to be set on a copy of a slice from a DataFrame.\n",
      "Try using .loc[row_indexer,col_indexer] = value instead\n",
      "\n",
      "See the caveats in the documentation: https://pandas.pydata.org/pandas-docs/stable/user_guide/indexing.html#returning-a-view-versus-a-copy\n",
      "<timed exec>:4: SettingWithCopyWarning: \n",
      "A value is trying to be set on a copy of a slice from a DataFrame.\n",
      "Try using .loc[row_indexer,col_indexer] = value instead\n",
      "\n",
      "See the caveats in the documentation: https://pandas.pydata.org/pandas-docs/stable/user_guide/indexing.html#returning-a-view-versus-a-copy\n"
     ]
    }
   ],
   "source": [
    "%%time\n",
    "df_2205['prob'] = df_2205['score']\n",
    "df_2205['score'] = df_2205['score'].apply(lambda x :  get_score(x))\n",
    "df_2205['score_g'] = df_2205['score'].apply(lambda x :  get_score_g(x))\n",
    "df_2205['1000_score'] = df_2205['prob']*1000"
   ]
  },
  {
   "cell_type": "code",
   "execution_count": 49,
   "metadata": {
    "colab": {
     "base_uri": "https://localhost:8080/",
     "height": 398
    },
    "id": "aH0LykMGNF5g",
    "outputId": "3ea2ceea-5bf3-444d-bc56-e46859c2593d"
   },
   "outputs": [
    {
     "name": "stdout",
     "output_type": "stream",
     "text": [
      "CPU times: user 2.14 ms, sys: 813 μs, total: 2.95 ms\n",
      "Wall time: 2.72 ms\n"
     ]
    },
    {
     "data": {
      "text/html": [
       "<div>\n",
       "<style scoped>\n",
       "    .dataframe tbody tr th:only-of-type {\n",
       "        vertical-align: middle;\n",
       "    }\n",
       "\n",
       "    .dataframe tbody tr th {\n",
       "        vertical-align: top;\n",
       "    }\n",
       "\n",
       "    .dataframe thead th {\n",
       "        text-align: right;\n",
       "    }\n",
       "</style>\n",
       "<table border=\"1\" class=\"dataframe\">\n",
       "  <thead>\n",
       "    <tr style=\"text-align: right;\">\n",
       "      <th></th>\n",
       "      <th>score_g</th>\n",
       "      <th>sum</th>\n",
       "      <th>size</th>\n",
       "    </tr>\n",
       "  </thead>\n",
       "  <tbody>\n",
       "    <tr>\n",
       "      <th>9</th>\n",
       "      <td>940</td>\n",
       "      <td>229768.0</td>\n",
       "      <td>220</td>\n",
       "    </tr>\n",
       "    <tr>\n",
       "      <th>8</th>\n",
       "      <td>830</td>\n",
       "      <td>241385.0</td>\n",
       "      <td>274</td>\n",
       "    </tr>\n",
       "    <tr>\n",
       "      <th>7</th>\n",
       "      <td>720</td>\n",
       "      <td>840612.0</td>\n",
       "      <td>1089</td>\n",
       "    </tr>\n",
       "    <tr>\n",
       "      <th>6</th>\n",
       "      <td>610</td>\n",
       "      <td>573327.0</td>\n",
       "      <td>864</td>\n",
       "    </tr>\n",
       "    <tr>\n",
       "      <th>5</th>\n",
       "      <td>500</td>\n",
       "      <td>707837.0</td>\n",
       "      <td>1278</td>\n",
       "    </tr>\n",
       "    <tr>\n",
       "      <th>4</th>\n",
       "      <td>390</td>\n",
       "      <td>570978.0</td>\n",
       "      <td>1302</td>\n",
       "    </tr>\n",
       "    <tr>\n",
       "      <th>3</th>\n",
       "      <td>280</td>\n",
       "      <td>556348.0</td>\n",
       "      <td>1672</td>\n",
       "    </tr>\n",
       "    <tr>\n",
       "      <th>2</th>\n",
       "      <td>170</td>\n",
       "      <td>360005.0</td>\n",
       "      <td>1562</td>\n",
       "    </tr>\n",
       "    <tr>\n",
       "      <th>1</th>\n",
       "      <td>100</td>\n",
       "      <td>80382.0</td>\n",
       "      <td>588</td>\n",
       "    </tr>\n",
       "    <tr>\n",
       "      <th>0</th>\n",
       "      <td>0</td>\n",
       "      <td>15882.0</td>\n",
       "      <td>1151</td>\n",
       "    </tr>\n",
       "  </tbody>\n",
       "</table>\n",
       "</div>"
      ],
      "text/plain": [
       "   score_g       sum  size\n",
       "9      940  229768.0   220\n",
       "8      830  241385.0   274\n",
       "7      720  840612.0  1089\n",
       "6      610  573327.0   864\n",
       "5      500  707837.0  1278\n",
       "4      390  570978.0  1302\n",
       "3      280  556348.0  1672\n",
       "2      170  360005.0  1562\n",
       "1      100   80382.0   588\n",
       "0        0   15882.0  1151"
      ]
     },
     "execution_count": 49,
     "metadata": {},
     "output_type": "execute_result"
    }
   ],
   "source": [
    "%%time\n",
    "score_gr = df_2203.groupby(['score_g'])['score'].agg(['sum','size']).reset_index()\n",
    "df_score_2 = score_gr.sort_values(['score_g'],ascending=False)\n",
    "score_gr.sort_values(['score_g'],ascending=False)"
   ]
  },
  {
   "cell_type": "code",
   "execution_count": 50,
   "metadata": {
    "colab": {
     "base_uri": "https://localhost:8080/",
     "height": 363
    },
    "id": "eUZc4_FPLw6o",
    "outputId": "f84820ab-6f43-41e6-b018-4ad5947f2407"
   },
   "outputs": [
    {
     "data": {
      "text/html": [
       "<div>\n",
       "<style scoped>\n",
       "    .dataframe tbody tr th:only-of-type {\n",
       "        vertical-align: middle;\n",
       "    }\n",
       "\n",
       "    .dataframe tbody tr th {\n",
       "        vertical-align: top;\n",
       "    }\n",
       "\n",
       "    .dataframe thead th {\n",
       "        text-align: right;\n",
       "    }\n",
       "</style>\n",
       "<table border=\"1\" class=\"dataframe\">\n",
       "  <thead>\n",
       "    <tr style=\"text-align: right;\">\n",
       "      <th></th>\n",
       "      <th>score_g</th>\n",
       "      <th>sum</th>\n",
       "      <th>size</th>\n",
       "    </tr>\n",
       "  </thead>\n",
       "  <tbody>\n",
       "    <tr>\n",
       "      <th>9</th>\n",
       "      <td>940</td>\n",
       "      <td>229768.0</td>\n",
       "      <td>220</td>\n",
       "    </tr>\n",
       "    <tr>\n",
       "      <th>8</th>\n",
       "      <td>830</td>\n",
       "      <td>241385.0</td>\n",
       "      <td>274</td>\n",
       "    </tr>\n",
       "    <tr>\n",
       "      <th>7</th>\n",
       "      <td>720</td>\n",
       "      <td>840612.0</td>\n",
       "      <td>1089</td>\n",
       "    </tr>\n",
       "    <tr>\n",
       "      <th>6</th>\n",
       "      <td>610</td>\n",
       "      <td>573327.0</td>\n",
       "      <td>864</td>\n",
       "    </tr>\n",
       "    <tr>\n",
       "      <th>5</th>\n",
       "      <td>500</td>\n",
       "      <td>707837.0</td>\n",
       "      <td>1278</td>\n",
       "    </tr>\n",
       "    <tr>\n",
       "      <th>4</th>\n",
       "      <td>390</td>\n",
       "      <td>570978.0</td>\n",
       "      <td>1302</td>\n",
       "    </tr>\n",
       "    <tr>\n",
       "      <th>3</th>\n",
       "      <td>280</td>\n",
       "      <td>556348.0</td>\n",
       "      <td>1672</td>\n",
       "    </tr>\n",
       "    <tr>\n",
       "      <th>2</th>\n",
       "      <td>170</td>\n",
       "      <td>360005.0</td>\n",
       "      <td>1562</td>\n",
       "    </tr>\n",
       "    <tr>\n",
       "      <th>1</th>\n",
       "      <td>100</td>\n",
       "      <td>80382.0</td>\n",
       "      <td>588</td>\n",
       "    </tr>\n",
       "    <tr>\n",
       "      <th>0</th>\n",
       "      <td>0</td>\n",
       "      <td>15882.0</td>\n",
       "      <td>1151</td>\n",
       "    </tr>\n",
       "  </tbody>\n",
       "</table>\n",
       "</div>"
      ],
      "text/plain": [
       "   score_g       sum  size\n",
       "9      940  229768.0   220\n",
       "8      830  241385.0   274\n",
       "7      720  840612.0  1089\n",
       "6      610  573327.0   864\n",
       "5      500  707837.0  1278\n",
       "4      390  570978.0  1302\n",
       "3      280  556348.0  1672\n",
       "2      170  360005.0  1562\n",
       "1      100   80382.0   588\n",
       "0        0   15882.0  1151"
      ]
     },
     "execution_count": 50,
     "metadata": {},
     "output_type": "execute_result"
    }
   ],
   "source": [
    "df_score_2"
   ]
  },
  {
   "cell_type": "code",
   "execution_count": 51,
   "metadata": {
    "colab": {
     "base_uri": "https://localhost:8080/",
     "height": 398
    },
    "id": "xYS9bIBGNGtU",
    "outputId": "4d522329-92eb-47c5-c801-ab4834c26c60"
   },
   "outputs": [
    {
     "name": "stdout",
     "output_type": "stream",
     "text": [
      "CPU times: user 1.32 ms, sys: 579 μs, total: 1.89 ms\n",
      "Wall time: 1.39 ms\n"
     ]
    },
    {
     "data": {
      "text/html": [
       "<div>\n",
       "<style scoped>\n",
       "    .dataframe tbody tr th:only-of-type {\n",
       "        vertical-align: middle;\n",
       "    }\n",
       "\n",
       "    .dataframe tbody tr th {\n",
       "        vertical-align: top;\n",
       "    }\n",
       "\n",
       "    .dataframe thead th {\n",
       "        text-align: right;\n",
       "    }\n",
       "</style>\n",
       "<table border=\"1\" class=\"dataframe\">\n",
       "  <thead>\n",
       "    <tr style=\"text-align: right;\">\n",
       "      <th></th>\n",
       "      <th>score_g</th>\n",
       "      <th>sum</th>\n",
       "      <th>size</th>\n",
       "    </tr>\n",
       "  </thead>\n",
       "  <tbody>\n",
       "    <tr>\n",
       "      <th>9</th>\n",
       "      <td>940</td>\n",
       "      <td>111388.0</td>\n",
       "      <td>101</td>\n",
       "    </tr>\n",
       "    <tr>\n",
       "      <th>8</th>\n",
       "      <td>830</td>\n",
       "      <td>47452.0</td>\n",
       "      <td>54</td>\n",
       "    </tr>\n",
       "    <tr>\n",
       "      <th>7</th>\n",
       "      <td>720</td>\n",
       "      <td>219594.0</td>\n",
       "      <td>293</td>\n",
       "    </tr>\n",
       "    <tr>\n",
       "      <th>6</th>\n",
       "      <td>610</td>\n",
       "      <td>589770.0</td>\n",
       "      <td>882</td>\n",
       "    </tr>\n",
       "    <tr>\n",
       "      <th>5</th>\n",
       "      <td>500</td>\n",
       "      <td>524480.0</td>\n",
       "      <td>953</td>\n",
       "    </tr>\n",
       "    <tr>\n",
       "      <th>4</th>\n",
       "      <td>390</td>\n",
       "      <td>627799.0</td>\n",
       "      <td>1426</td>\n",
       "    </tr>\n",
       "    <tr>\n",
       "      <th>3</th>\n",
       "      <td>280</td>\n",
       "      <td>475353.0</td>\n",
       "      <td>1418</td>\n",
       "    </tr>\n",
       "    <tr>\n",
       "      <th>2</th>\n",
       "      <td>170</td>\n",
       "      <td>402755.0</td>\n",
       "      <td>1783</td>\n",
       "    </tr>\n",
       "    <tr>\n",
       "      <th>1</th>\n",
       "      <td>100</td>\n",
       "      <td>159890.0</td>\n",
       "      <td>1164</td>\n",
       "    </tr>\n",
       "    <tr>\n",
       "      <th>0</th>\n",
       "      <td>0</td>\n",
       "      <td>-38091.0</td>\n",
       "      <td>1926</td>\n",
       "    </tr>\n",
       "  </tbody>\n",
       "</table>\n",
       "</div>"
      ],
      "text/plain": [
       "   score_g       sum  size\n",
       "9      940  111388.0   101\n",
       "8      830   47452.0    54\n",
       "7      720  219594.0   293\n",
       "6      610  589770.0   882\n",
       "5      500  524480.0   953\n",
       "4      390  627799.0  1426\n",
       "3      280  475353.0  1418\n",
       "2      170  402755.0  1783\n",
       "1      100  159890.0  1164\n",
       "0        0  -38091.0  1926"
      ]
     },
     "execution_count": 51,
     "metadata": {},
     "output_type": "execute_result"
    }
   ],
   "source": [
    "%%time\n",
    "score_gr = df_2205.groupby(['score_g'])['score'].agg(['sum','size']).reset_index()\n",
    "df_score_3 = score_gr.sort_values(['score_g'],ascending=False)\n",
    "score_gr.sort_values(['score_g'],ascending=False)"
   ]
  },
  {
   "cell_type": "code",
   "execution_count": 52,
   "metadata": {
    "colab": {
     "base_uri": "https://localhost:8080/"
    },
    "id": "8YPQDf-SJ1a_",
    "outputId": "c23f14db-877e-4388-b234-831ddf1859ad"
   },
   "outputs": [
    {
     "name": "stdout",
     "output_type": "stream",
     "text": [
      "202203 등급별 PSI: [0.005145233476234257, 0.0045407280717354144, 0.06399466160172512, 0.0014370270478542295, 0.008914444028889669, 0.008423185859092287, 9.580842903818896e-07, 0.021598507939368673, 0.00972272025174585, 0.016509512318206684]\n",
      "202203 총합 PSI: 0.14028697867914255\n",
      "202205 등급별 PSI: [0.02881893425483274, 0.014040855031803053, 0.004506998717403887, 0.001012093989280076, 1.0438508143923392e-05, 0.0033817706610942094, 0.00405944689566548, 0.0086044496308474, 0.009803332141173685, 0.1091655849198207]\n",
      "202205 총합 PSI: 0.18340390475006516\n",
      "202203 AUC: 0.8\n",
      "202205 AUC: 1.0\n"
     ]
    }
   ],
   "source": [
    "from sklearn.metrics import roc_auc_score\n",
    "\n",
    "# PSI 계산 함수 (등급별 PSI 반환)\n",
    "def calculate_psi(expected, actual):\n",
    "    psi_values = []\n",
    "    for e, a in zip(expected, actual):\n",
    "        if e == 0 or a == 0:\n",
    "            psi = 0  # 분모가 0일 경우 PSI 값은 0으로 처리\n",
    "        else:\n",
    "            psi = (e - a) * np.log(e / a)\n",
    "        psi_values.append(psi)\n",
    "    total_psi = np.sum(psi_values)\n",
    "    return psi_values, total_psi\n",
    "\n",
    "# 각 데이터프레임에서 'size' 비율 계산\n",
    "df_score_1['proportion'] = df_score_1['size'] / df_score_1['size'].sum()\n",
    "df_score_2['proportion'] = df_score_2['size'] / df_score_2['size'].sum()\n",
    "df_score_3['proportion'] = df_score_3['size'] / df_score_3['size'].sum()\n",
    "\n",
    "# PSI 계산 (등급별 및 총합)\n",
    "psi_values_202203, psi_total_202203 = calculate_psi(df_score_1['proportion'], df_score_2['proportion'])\n",
    "psi_values_202205, psi_total_202205 = calculate_psi(df_score_1['proportion'], df_score_3['proportion'])\n",
    "\n",
    "# 등급별 및 총합 PSI 출력\n",
    "print(f\"202203 등급별 PSI: {psi_values_202203}\")\n",
    "print(f\"202203 총합 PSI: {psi_total_202203}\")\n",
    "\n",
    "print(f\"202205 등급별 PSI: {psi_values_202205}\")\n",
    "print(f\"202205 총합 PSI: {psi_total_202205}\")\n",
    "\n",
    "# AUC 계산 함수\n",
    "def calculate_auc(df_base, df_compare):\n",
    "    # 'sum'을 기준으로 긍정/부정 클래스 비율 설정 (임의로 지정 가능)\n",
    "    y_true = (df_base['sum'] > df_base['sum'].mean()).astype(int)  # 기준 데이터의 클래스\n",
    "    y_scores = df_compare['sum']  # 비교 데이터의 예측값\n",
    "    auc = roc_auc_score(y_true, y_scores)\n",
    "    return auc\n",
    "\n",
    "# AUC 계산\n",
    "auc_202203 = calculate_auc(df_score_1, df_score_2)\n",
    "auc_202205 = calculate_auc(df_score_1, df_score_3)\n",
    "\n",
    "print(f\"202203 AUC: {auc_202203}\")\n",
    "print(f\"202205 AUC: {auc_202205}\")"
   ]
  },
  {
   "cell_type": "code",
   "execution_count": null,
   "metadata": {
    "id": "XIgg4_7SLXJz"
   },
   "outputs": [],
   "source": []
  }
 ],
 "metadata": {
  "colab": {
   "provenance": []
  },
  "kernelspec": {
   "display_name": "study",
   "language": "python",
   "name": "python3"
  },
  "language_info": {
   "codemirror_mode": {
    "name": "ipython",
    "version": 3
   },
   "file_extension": ".py",
   "mimetype": "text/x-python",
   "name": "python",
   "nbconvert_exporter": "python",
   "pygments_lexer": "ipython3",
   "version": "3.12.7"
  }
 },
 "nbformat": 4,
 "nbformat_minor": 0
}
