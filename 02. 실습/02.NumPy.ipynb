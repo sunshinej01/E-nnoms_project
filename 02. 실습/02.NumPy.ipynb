{
 "cells": [
  {
   "cell_type": "code",
   "execution_count": 2,
   "metadata": {},
   "outputs": [],
   "source": [
    "import numpy as np"
   ]
  },
  {
   "cell_type": "markdown",
   "metadata": {},
   "source": [
    "# NumPy - Numerical Python\n",
    "\n",
    "- 파이썬 산술 계산을 위한 패키지\n",
    "- NumPy 배열 객체는 데이터 교환을 위한 공통 언어처럼 사용 -> R 등 다른 언어에서 호환이 쉬움\n",
    "- ** 파이썬의 연속된 자료형보다 더 적은 메모리 사용 **\n",
    "    리스트 : 메모리 주소에 객체의 위치 저장\n",
    "    넘파이 : 연속된 메모리 주소에 객체의 위치 저장\n",
    "        -> (같은 크기의 같은 자료형만을 담을 수 있기 때문에 가능) 배열의 첫 번째 주소만 알면 됨\n",
    "- 다양한 계산 수행 적합"
   ]
  },
  {
   "cell_type": "code",
   "execution_count": 13,
   "metadata": {},
   "outputs": [
    {
     "name": "stdout",
     "output_type": "stream",
     "text": [
      "[[ 6  8]\n",
      " [10 12]]\n"
     ]
    },
    {
     "data": {
      "text/plain": [
       "(2, 2)"
      ]
     },
     "execution_count": 13,
     "metadata": {},
     "output_type": "execute_result"
    }
   ],
   "source": [
    "matrix_1 = [[1,2],[3,4]]\n",
    "matrix_2 = [[5,6],[7,8]]\n",
    "\n",
    "matrix_result = np.array(matrix_1)+np.array(matrix_2)\n",
    "print(matrix_result)\n",
    "\n",
    "np.shape(matrix_result)"
   ]
  },
  {
   "cell_type": "code",
   "execution_count": 42,
   "metadata": {},
   "outputs": [
    {
     "name": "stdout",
     "output_type": "stream",
     "text": [
      "(2, 3, 4)\n",
      "배열의 구조 : (2, 3, 4)\n",
      "배열의 차원(dimensions) : 3\n",
      "전체 원소의 개수 : 24\n"
     ]
    }
   ],
   "source": [
    "# ndarray\n",
    "\n",
    "array0d = np.array(1)\n",
    "array1d = np.array([1,2])\n",
    "array2d = np.array([[1,2,3,4,5],[4,5,6,7,8],[7,8,9,10,11]])\n",
    "array3d = np.array([[[1,1,1,1],[2,2,2,2],[3,3,3,3]],[[1,1,1,1],[2,2,2,2],[3,3,3,3]]])\n",
    "array3d_2 = np.array([[[0]*4 for _ in range (3)] for _ in range (2)])\n",
    "print(array3d_2.shape)\n",
    "\n",
    "print('배열의 구조 :',array3d.shape)\n",
    "print('배열의 차원(dimensions) :', array3d.ndim)\n",
    "print('전체 원소의 개수 :', array3d.size)"
   ]
  },
  {
   "cell_type": "code",
   "execution_count": 46,
   "metadata": {},
   "outputs": [
    {
     "name": "stdout",
     "output_type": "stream",
     "text": [
      "float32\n",
      "3.0\n",
      "\n",
      "<U1\n",
      "12\n"
     ]
    }
   ],
   "source": [
    "# 자료형\n",
    "\n",
    "x = np.array([1,2,3],dtype='f')\n",
    "print(f'''{x.dtype}\n",
    "{x[0] + x[1]}''')\n",
    "print()\n",
    "x = np.array([1,2,3],dtype='U')\n",
    "print(f'''{x.dtype}\n",
    "{x[0] + x[1]}''')"
   ]
  },
  {
   "cell_type": "code",
   "execution_count": 52,
   "metadata": {},
   "outputs": [
    {
     "name": "stdout",
     "output_type": "stream",
     "text": [
      "np.inf(무한대) = inf\n",
      "np.nan(정의할 수 없는 숫자) = nan\n",
      "-np.inf(-무한대) = -inf\n"
     ]
    }
   ],
   "source": [
    "# 무한대\n",
    "\n",
    "print(f'''np.inf(무한대) = {np.inf}\n",
    "np.nan(정의할 수 없는 숫자) = {np.nan}\n",
    "-np.inf(-무한대) = {-np.inf}''')"
   ]
  },
  {
   "cell_type": "code",
   "execution_count": 104,
   "metadata": {},
   "outputs": [
    {
     "name": "stdout",
     "output_type": "stream",
     "text": [
      "[12 24 36]\n",
      "[False  True False]\n",
      "[False  True  True]\n",
      "[False  True False]\n",
      "[[ 8 10 12]\n",
      " [14 16 18]]\n",
      "[ 3  6  9 12 15 18 21 24 27]\n"
     ]
    }
   ],
   "source": [
    "# 벡터화 연산\n",
    "\n",
    "a = np.array([1, 2, 3])\n",
    "b = np.array([10, 20, 30])\n",
    "\n",
    "print(2*a+b)\n",
    "print(a == 2)\n",
    "print(b>10)\n",
    "print((a==2)&(b>10))\n",
    "\n",
    "#벡터화 연산 연습문제\n",
    "c = np.array([\n",
    "    [1,2,3],\n",
    "    [4,5,6]\n",
    "    ])\n",
    "d = np.array([\n",
    "    [7,8,9],\n",
    "    [10,11,12]\n",
    "    ])\n",
    "print(c+d)\n",
    "\n",
    "#벡터화 연산 연습문제2\n",
    "ndarray = np.array([_ for _ in range(1,10)])\n",
    "print(ndarray*3)"
   ]
  },
  {
   "cell_type": "code",
   "execution_count": 118,
   "metadata": {},
   "outputs": [
    {
     "name": "stdout",
     "output_type": "stream",
     "text": [
      "배열 x:\n",
      "[[[ 1  2  3]\n",
      "  [ 4  5  6]\n",
      "  [ 7  8  9]]\n",
      "\n",
      " [[10 20 30]\n",
      "  [40 50 60]\n",
      "  [70 80 90]]]\n",
      "\n",
      "x의 shape: (2, 3, 3)\n",
      "[[[ 1  2  3]\n",
      "  [ 4  5  6]\n",
      "  [ 7  8  9]]\n",
      "\n",
      " [[10 20 30]\n",
      "  [40 50 60]\n",
      "  [70 80 90]]]\n",
      "[4 5 6]\n",
      "8\n",
      "[10 30]\n",
      "[[ 7  8  9]\n",
      " [70 80 90]]\n",
      "\n",
      "[[[ 1  2  3]\n",
      "  [ 7  8  9]]\n",
      "\n",
      " [[10 20 30]\n",
      "  [70 80 90]]]\n"
     ]
    }
   ],
   "source": [
    "# 다차원 배열 생성\n",
    "x = np.array([\n",
    "    [[1, 2, 3], [4, 5, 6], [7, 8, 9]],\n",
    "    [[10, 20, 30], [40, 50, 60], [70, 80, 90]]\n",
    "])\n",
    "# 배열 출력\n",
    "print(\"배열 x:\")\n",
    "print(x)\n",
    "# 배열의 shape 확인\n",
    "print(\"\\nx의 shape:\", x.shape)\n",
    "print(x)\n",
    "\n",
    "\n",
    "print(x[0,1])\n",
    "print(x[0,2,1])\n",
    "print(x[1,0,0::2])\n",
    "print(x[0:,2])\n",
    "\n",
    "print(x[0:2, 0::2])"
   ]
  },
  {
   "cell_type": "code",
   "execution_count": 126,
   "metadata": {},
   "outputs": [
    {
     "name": "stdout",
     "output_type": "stream",
     "text": [
      "(3, 5)\n",
      "7\n",
      "14\n",
      "[6 7]\n",
      "[ 7 12]\n",
      "[[3 4]\n",
      " [8 9]]\n"
     ]
    }
   ],
   "source": [
    "# 슬라이싱 연습문제\n",
    "m = np.array([[ 0,  1,  2,  3,  4],\n",
    "              [ 5,  6,  7,  8,  9],\n",
    "              [10, 11, 12, 13, 14]])\n",
    "\n",
    "print(m.shape)\n",
    "\n",
    "print(m[1, 2])\n",
    "print(m[2, 4])\n",
    "print(m[1,1:3])\n",
    "print(m[1:3, 2])\n",
    "print(m[0:2, 3:5])"
   ]
  },
  {
   "cell_type": "code",
   "execution_count": 134,
   "metadata": {},
   "outputs": [
    {
     "name": "stdout",
     "output_type": "stream",
     "text": [
      "[[0. 0.]\n",
      " [0. 0.]\n",
      " [0. 0.]\n",
      " [0. 0.]\n",
      " [0. 0.]]\n",
      "[[[1 1 1 1]\n",
      "  [1 1 1 1]\n",
      "  [1 1 1 1]]\n",
      "\n",
      " [[1 1 1 1]\n",
      "  [1 1 1 1]\n",
      "  [1 1 1 1]]]\n",
      "[[[0. 0. 0. 0.]\n",
      "  [0. 0. 0. 0.]\n",
      "  [0. 0. 0. 0.]]\n",
      "\n",
      " [[0. 0. 0. 0.]\n",
      "  [0. 0. 0. 0.]\n",
      "  [0. 0. 0. 0.]]]\n"
     ]
    }
   ],
   "source": [
    "#zeros, ones, zeros/ones_like\n",
    "\n",
    "c = np.zeros((5,2), dtype='f')\n",
    "print(c)\n",
    "\n",
    "d = np.ones((2,3,4), dtype='i8')\n",
    "print(d)\n",
    "\n",
    "e = np.zeros_like(d, dtype='f')         #np.zeros_like(따라할 배열, 타입)\n",
    "print(e)"
   ]
  },
  {
   "cell_type": "code",
   "execution_count": 31,
   "metadata": {},
   "outputs": [
    {
     "name": "stdout",
     "output_type": "stream",
     "text": [
      "[[1. 1. 1. 1. 1. 1. 1. 1. 1.]\n",
      " [1. 0. 0. 0. 0. 0. 0. 0. 0.]\n",
      " [1. 0. 0. 0. 0. 0. 0. 0. 0.]\n",
      " [1. 0. 0. 0. 0. 0. 0. 0. 0.]\n",
      " [1. 0. 0. 0. 0. 0. 0. 0. 0.]\n",
      " [1. 0. 0. 0. 0. 0. 0. 0. 0.]\n",
      " [1. 0. 0. 0. 0. 0. 0. 0. 0.]\n",
      " [1. 0. 0. 0. 0. 0. 0. 0. 0.]\n",
      " [1. 0. 0. 0. 0. 0. 0. 0. 0.]]\n"
     ]
    }
   ],
   "source": [
    "# 배열 생성, 슬라이싱 연습문제\n",
    "\n",
    "a = np.ones((9,9), dtype='f')\n",
    "a[-1:0:-1, -1:0:-1] = 0\n",
    "\n",
    "print(a)"
   ]
  },
  {
   "cell_type": "code",
   "execution_count": 148,
   "metadata": {},
   "outputs": [
    {
     "name": "stdout",
     "output_type": "stream",
     "text": [
      "[[1. 0. 1. 0. 1. 0. 1. 0.]\n",
      " [0. 1. 0. 1. 0. 1. 0. 1.]\n",
      " [1. 0. 1. 0. 1. 0. 1. 0.]\n",
      " [0. 1. 0. 1. 0. 1. 0. 1.]\n",
      " [1. 0. 1. 0. 1. 0. 1. 0.]\n",
      " [0. 1. 0. 1. 0. 1. 0. 1.]\n",
      " [1. 0. 1. 0. 1. 0. 1. 0.]\n",
      " [0. 1. 0. 1. 0. 1. 0. 1.]]\n"
     ]
    }
   ],
   "source": [
    "#배열, 슬라이싱 연습문제 체커보드\n",
    "a = np.ones((8,8), dtype='f')\n",
    "for x in range(8) :\n",
    "    if x%2!=0 :\n",
    "        a[x,0::2] = 0\n",
    "    else :\n",
    "        a[x,1::2] = 0\n",
    "\n",
    "print(a)"
   ]
  },
  {
   "cell_type": "code",
   "execution_count": 150,
   "metadata": {},
   "outputs": [
    {
     "data": {
      "text/plain": [
       "array([[4.67296746e-307, 1.69121096e-306, 9.45698831e-308],\n",
       "       [1.89146896e-307, 7.56571288e-307, 3.11525958e-307],\n",
       "       [1.24610723e-306, 1.29061142e-306, 1.39077302e-307],\n",
       "       [9.34562257e-307, 1.37962388e-306, 1.78019625e-306]])"
      ]
     },
     "execution_count": 150,
     "metadata": {},
     "output_type": "execute_result"
    }
   ],
   "source": [
    "# np.empty((shape))\n",
    "\n",
    "#배열의 크기가 커지면 초기화 시간이 증가 -> 특정 값으로 초기화하지 않은 명령어, 원래 메모리에 들어있는 쓰레기값으로 만들어줌\n",
    "\n",
    "g = np.empty((4,3))\n",
    "g"
   ]
  },
  {
   "cell_type": "code",
   "execution_count": 152,
   "metadata": {},
   "outputs": [
    {
     "data": {
      "text/plain": [
       "array([ 3,  5,  7,  9, 11, 13, 15, 17, 19])"
      ]
     },
     "execution_count": 152,
     "metadata": {},
     "output_type": "execute_result"
    }
   ],
   "source": [
    "# np.arange(start, end, step)수열을 이용한 배열 생성\n",
    "\n",
    "np.arange(3, 21, 2)"
   ]
  },
  {
   "cell_type": "code",
   "execution_count": 158,
   "metadata": {},
   "outputs": [
    {
     "name": "stdout",
     "output_type": "stream",
     "text": [
      "random : [[0.16870457 0.29913335]\n",
      " [0.85366766 0.53228934]\n",
      " [0.68994396 0.15850845]]\n",
      "rand : [[0.26584696 0.74984502 0.56166733]\n",
      " [0.47171975 0.62056071 0.69521352]\n",
      " [0.64120441 0.70357132 0.36928407]]\n",
      "randint : [[9 3 4]\n",
      " [7 7 4]]\n",
      "randn : [[-0.94768658  0.46685343 -0.93050024]\n",
      " [ 0.14948518 -0.06461636 -1.45556837]\n",
      " [ 0.98430835  0.88541616 -1.22380975]]\n",
      "[[0.61809388 0.38031766 0.66195923]\n",
      " [0.25048074 0.91009261 0.339339  ]]\n",
      "[[0.55450665 0.52454012 0.62463014]\n",
      " [0.61740157 0.70293349 0.15136002]]\n"
     ]
    }
   ],
   "source": [
    "# np.random.~ 랜덤 배열 생성\n",
    "\n",
    "#np.random.random((shape)) : 0~1 사이의 균일 분포를 따르는 난수 생성\n",
    "print('random :',np.random.random((3,2)))\n",
    "\n",
    "#np.random.rand(shape) : 0~1의 균일 분포에서 난수 생성\n",
    "print('rand :',np.random.rand(3,3))\n",
    "\n",
    "#np.random.randint(start, end, size) : start~(end-1)의 균일 분포에서 난수 생성\n",
    "print('randint :', np.random.randint(1, 10, (2,3)))\n",
    "\n",
    "#np.random.randn(shape) :\n",
    "print('randn :',np.random.randn(3,3))\n",
    "\n",
    "\n",
    "#random은 shape를 튜플로 받기 때문에 shape가 튜플이라면 random,\n",
    "#튜플 형태의 shape를 rand에서 쓰려면 np.random.rand(*shape)\n",
    "\n",
    "shape = (2, 3)\n",
    "\n",
    "print(np.random.random(shape))\n",
    "print(np.random.rand(*shape))"
   ]
  },
  {
   "cell_type": "code",
   "execution_count": 161,
   "metadata": {},
   "outputs": [
    {
     "name": "stdout",
     "output_type": "stream",
     "text": [
      "np.linspace(0,100,5) : [  0.  25.  50.  75. 100.]\n",
      "np.logspace(0,100,5) : [1.e+000 1.e+025 1.e+050 1.e+075 1.e+100]\n"
     ]
    }
   ],
   "source": [
    "# np.linspace/np.logspace(start, stop, num)\n",
    "print(\"np.linspace(0,100,5) :\",np.linspace(0,100,5))\n",
    "print(\"np.logspace(0,100,5) :\",np.logspace(0,100,5))"
   ]
  },
  {
   "cell_type": "code",
   "execution_count": 169,
   "metadata": {},
   "outputs": [
    {
     "data": {
      "text/plain": [
       "array([0.1, 0.2, 0.3, 0.4, 0.5, 0.6, 0.7, 0.8, 0.9])"
      ]
     },
     "execution_count": 169,
     "metadata": {},
     "output_type": "execute_result"
    }
   ],
   "source": [
    "#linspace() 연습문제\\\n",
    "\n",
    "np.linspace(0.1,0.9,9)"
   ]
  },
  {
   "cell_type": "code",
   "execution_count": 144,
   "metadata": {},
   "outputs": [
    {
     "data": {
      "text/plain": [
       "array([[['', '', ''],\n",
       "        ['', '', ''],\n",
       "        ['', '', '']],\n",
       "\n",
       "       [['', '', ''],\n",
       "        ['', '', ''],\n",
       "        ['', '', '']],\n",
       "\n",
       "       [['', '', ''],\n",
       "        ['', '', ''],\n",
       "        ['', '', '']]], dtype='<U10')"
      ]
     },
     "execution_count": 144,
     "metadata": {},
     "output_type": "execute_result"
    }
   ],
   "source": [
    "ndarray = np.ones((3,3,3), dtype='U10')\n",
    "ndarray[0:3] = ''\n",
    "ndarray"
   ]
  },
  {
   "cell_type": "code",
   "execution_count": 5,
   "metadata": {},
   "outputs": [
    {
     "name": "stdout",
     "output_type": "stream",
     "text": [
      "a : [ 0  1  2  3  4  5  6  7  8  9 10 11]\n",
      "b : [[ 0  1  2  3]\n",
      " [ 4  5  6  7]\n",
      " [ 8  9 10 11]]\n",
      "c : [[[ 0  1  2]\n",
      "  [ 3  4  5]]\n",
      "\n",
      " [[ 6  7  8]\n",
      "  [ 9 10 11]]]\n",
      "d : [[[ 0  1  2]\n",
      "  [ 3  4  5]]\n",
      "\n",
      " [[ 6  7  8]\n",
      "  [ 9 10 11]]]\n"
     ]
    }
   ],
   "source": [
    "# 배열의 크기 변경 np.reshape(shape)\n",
    "\n",
    "a = np.arange(12)\n",
    "b = a.reshape(3,4)\n",
    "print('a :', a)\n",
    "print('b :', b)\n",
    "\n",
    "c = a.reshape(2,2,3)\n",
    "print('c :', c)\n",
    "\n",
    "d = a.reshape(2,-1,3)\n",
    "print('d :',d)"
   ]
  },
  {
   "cell_type": "code",
   "execution_count": 10,
   "metadata": {},
   "outputs": [
    {
     "name": "stdout",
     "output_type": "stream",
     "text": [
      "[ 2  4  6  8 10 12 14 16 18 20 22 24 26 28 30 32 34 36 38 40]\n",
      "[[[ 2  4  6  8 10]\n",
      "  [12 14 16 18 20]]\n",
      "\n",
      " [[22 24 26 28 30]\n",
      "  [32 34 36 38 40]]]\n"
     ]
    }
   ],
   "source": [
    "#array.reshape 연습문제\n",
    "\n",
    "ndarray = np.arange(2, 41, 2)\n",
    "a = ndarray.reshape(2,2,5)      #reshape는 값을 새로 저장해줘야 함\n",
    "print(ndarray)\n",
    "print(a)"
   ]
  },
  {
   "cell_type": "code",
   "execution_count": null,
   "metadata": {},
   "outputs": [],
   "source": [
    "# 차원 축소 a.flatten(), a.ravel()\n",
    "#ravel은 원본이 바뀜"
   ]
  },
  {
   "cell_type": "code",
   "execution_count": 30,
   "metadata": {},
   "outputs": [
    {
     "name": "stdout",
     "output_type": "stream",
     "text": [
      "[[0 1 2]\n",
      " [3 4 5]]\n",
      "[[0 3]\n",
      " [1 4]\n",
      " [2 5]]\n"
     ]
    }
   ],
   "source": [
    "# 전치 행렬 a.T -> 행과 열을 바꿈\n",
    "a = np.arange(6).reshape(2,3)\n",
    "print(a)\n",
    "print(a.T)"
   ]
  },
  {
   "cell_type": "code",
   "execution_count": 34,
   "metadata": {},
   "outputs": [
    {
     "name": "stdout",
     "output_type": "stream",
     "text": [
      "hstack(수평 연결) :\n",
      " [[ 1  2  3 10 20 30]\n",
      " [ 4  5  6 40 50 60]]\n"
     ]
    }
   ],
   "source": [
    "#hstack, vstack 수평, 수직 연결\n",
    "\n",
    "a = np.arange(1,7).reshape(2,3)\n",
    "b = np.arange(10,61,10).reshape(2,3)\n",
    "print('hstack(수평 연결) :\\n', np.hstack([a,b]))"
   ]
  },
  {
   "cell_type": "code",
   "execution_count": 42,
   "metadata": {},
   "outputs": [
    {
     "name": "stdout",
     "output_type": "stream",
     "text": [
      "[[  0.   0.   0.   1.   1.]\n",
      " [  0.   0.   0.   1.   1.]\n",
      " [  0.   0.   0.   1.   1.]\n",
      " [ 10.  20.  30.  40.  50.]\n",
      " [ 60.  70.  80.  90. 100.]\n",
      " [110. 120. 130. 140. 150.]\n",
      " [  0.   0.   0.   1.   1.]\n",
      " [  0.   0.   0.   1.   1.]\n",
      " [  0.   0.   0.   1.   1.]\n",
      " [ 10.  20.  30.  40.  50.]\n",
      " [ 60.  70.  80.  90. 100.]\n",
      " [110. 120. 130. 140. 150.]]\n"
     ]
    }
   ],
   "source": [
    "#수평, 수직 연결 연습\n",
    "\n",
    "a = np.zeros((3,3), dtype='f')\n",
    "b = np.ones((3,2), dtype='f')\n",
    "c = np.arange(10,151,10).reshape(3,5)\n",
    "d = np.vstack([np.hstack([a, b]),c])\n",
    "print(np.vstack([d,d]))\n"
   ]
  },
  {
   "cell_type": "markdown",
   "metadata": {},
   "source": [
    "# 브로드캐스팅\n",
    "모양이 다른 배열 간의 연산이 가능하도록 배열의 크기를 변환시킴\n",
    "-> 크기가 작은 배열이 크기가 큰 배열로 변환\n",
    "\n",
    "항상 가능한 것은 아님\n",
    "- 조건\n",
    "    - 차원 중 하나가 1인 경우\n",
    "    - 차원의 축의 크기가 동일한 경우"
   ]
  },
  {
   "cell_type": "markdown",
   "metadata": {},
   "source": [
    "# 넘파이 메소드"
   ]
  },
  {
   "cell_type": "code",
   "execution_count": 48,
   "metadata": {},
   "outputs": [
    {
     "data": {
      "text/plain": [
       "array([[[70, 21],\n",
       "        [49, 57],\n",
       "        [ 3, 68]],\n",
       "\n",
       "       [[24, 43],\n",
       "        [76, 26],\n",
       "        [52, 80]]])"
      ]
     },
     "metadata": {},
     "output_type": "display_data"
    },
    {
     "name": "stdout",
     "output_type": "stream",
     "text": [
      "max index : 11\n",
      "max value : 80\n",
      "min index : 4\n",
      "min value : 3\n"
     ]
    }
   ],
   "source": [
    "# argmin/argmax (해당 배열의 최소, 최대값의 인덱스 반환)\n",
    "# 다차원 배열의 경우 1차원 배열로 축소시켜 이넥스 반환\n",
    "\n",
    "arr = np.reshape(np.random.randint(100, size = (12)),(2,3,-1))\n",
    "display(arr)\n",
    "\n",
    "print(f'''max index : {np.argmax(arr)}\n",
    "max value : {arr.flatten()[np.argmax(arr)]}\n",
    "min index : {np.argmin(arr)}\n",
    "min value : {arr.flatten()[np.argmin(arr)]}''')"
   ]
  },
  {
   "cell_type": "code",
   "execution_count": 57,
   "metadata": {},
   "outputs": [
    {
     "name": "stdout",
     "output_type": "stream",
     "text": [
      "(2, 3, 2, 2)\n",
      "[[[[37 12]\n",
      "   [72  9]]\n",
      "\n",
      "  [[75  5]\n",
      "   [79 64]]\n",
      "\n",
      "  [[16  1]\n",
      "   [76 71]]]\n",
      "\n",
      "\n",
      " [[[ 6 25]\n",
      "   [50 20]]\n",
      "\n",
      "  [[18 84]\n",
      "   [11 28]]\n",
      "\n",
      "  [[29 14]\n",
      "   [50 68]]]]\n",
      "axis=0\n",
      " [[[1 0]\n",
      "  [1 0]]\n",
      "\n",
      " [[1 0]\n",
      "  [1 1]]\n",
      "\n",
      " [[0 0]\n",
      "  [1 1]]]\n",
      "axis=1\n",
      " [[[1 0]\n",
      "  [1 2]]\n",
      "\n",
      " [[2 1]\n",
      "  [0 2]]]\n",
      "axis=2\n",
      " [[[1 0]\n",
      "  [1 1]\n",
      "  [1 1]]\n",
      "\n",
      " [[1 0]\n",
      "  [0 0]\n",
      "  [1 1]]]\n",
      "--------------------\n",
      "[[[[37  9]\n",
      "   [72 12]]\n",
      "\n",
      "  [[75  5]\n",
      "   [79 64]]\n",
      "\n",
      "  [[16  1]\n",
      "   [76 71]]]\n",
      "\n",
      "\n",
      " [[[ 6 20]\n",
      "   [50 25]]\n",
      "\n",
      "  [[11 28]\n",
      "   [18 84]]\n",
      "\n",
      "  [[29 14]\n",
      "   [50 68]]]]\n"
     ]
    }
   ],
   "source": [
    "#argmin의 축 설정\n",
    "np.random.seed(1)\n",
    "arr = np.reshape(np.random.randint(100, size=24), (2, 3, 2, -1))\n",
    "print(arr.shape)\n",
    "print(arr)\n",
    "print('axis=0\\n', np.argmin(arr, axis=0))\n",
    "print('axis=1\\n', np.argmax(arr, axis=1))\n",
    "print('axis=2\\n', np.argmax(arr, axis=2))\n",
    "print('--'*10)\n",
    "print(np.sort(arr,axis=2))"
   ]
  },
  {
   "cell_type": "code",
   "execution_count": 60,
   "metadata": {},
   "outputs": [
    {
     "name": "stdout",
     "output_type": "stream",
     "text": [
      "x.shape : (12,), x.ndim : 1\n",
      "[ 0  1  2  3  4  5  6  7  8  9 10 11]\n",
      "x.shape : (12, 1), x.ndim : 2\n",
      "[[ 0]\n",
      " [ 1]\n",
      " [ 2]\n",
      " [ 3]\n",
      " [ 4]\n",
      " [ 5]\n",
      " [ 6]\n",
      " [ 7]\n",
      " [ 8]\n",
      " [ 9]\n",
      " [10]\n",
      " [11]]\n",
      "x.shape : (1, 12, 1), x.ndim : 3\n",
      "[[[ 0]\n",
      "  [ 1]\n",
      "  [ 2]\n",
      "  [ 3]\n",
      "  [ 4]\n",
      "  [ 5]\n",
      "  [ 6]\n",
      "  [ 7]\n",
      "  [ 8]\n",
      "  [ 9]\n",
      "  [10]\n",
      "  [11]]]\n"
     ]
    }
   ],
   "source": [
    "x = np.arange(12)\n",
    "print(f'x.shape : {x.shape}, x.ndim : {x.ndim}')\n",
    "print(x)\n",
    "x = x[:, np.newaxis]\n",
    "print(f'x.shape : {x.shape}, x.ndim : {x.ndim}')\n",
    "print(x)\n",
    "x = x[np.newaxis, :]\n",
    "print(f'x.shape : {x.shape}, x.ndim : {x.ndim}')\n",
    "print(x)"
   ]
  }
 ],
 "metadata": {
  "kernelspec": {
   "display_name": "study",
   "language": "python",
   "name": "python3"
  },
  "language_info": {
   "codemirror_mode": {
    "name": "ipython",
    "version": 3
   },
   "file_extension": ".py",
   "mimetype": "text/x-python",
   "name": "python",
   "nbconvert_exporter": "python",
   "pygments_lexer": "ipython3",
   "version": "3.12.7"
  }
 },
 "nbformat": 4,
 "nbformat_minor": 2
}
