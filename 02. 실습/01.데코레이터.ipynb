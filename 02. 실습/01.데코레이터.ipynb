{
 "cells": [
  {
   "cell_type": "markdown",
   "metadata": {},
   "source": [
    "# 데코레이터\n",
    "\n"
   ]
  },
  {
   "cell_type": "code",
   "execution_count": 11,
   "metadata": {},
   "outputs": [
    {
     "name": "stdout",
     "output_type": "stream",
     "text": [
      "1\n",
      "\n",
      "데코레이터\n",
      "********************\n",
      "hello 함수 : hello\n",
      "********************\n",
      "\n",
      "2\n",
      "hello 함수 : hello\n",
      "\n",
      "데코레이터\n",
      "********************\n",
      "hello 함수 : hello\n",
      "********************\n",
      "\n",
      "3\n",
      "\n",
      "데코레이터\n",
      "********************\n",
      "hello2 함수 : hello\n",
      "********************\n"
     ]
    }
   ],
   "source": [
    "def hello() :\n",
    "    print('hello 함수 : hello')\n",
    "\n",
    "def deco(fn) :\n",
    "    def deco_hello():\n",
    "        print('\\n데코레이터')\n",
    "        print('*'*20)\n",
    "        fn()\n",
    "        print('*'*20)\n",
    "    return deco_hello\n",
    "\n",
    "@deco\n",
    "def hello2() :\n",
    "    print('hello2 함수 : hello')\n",
    "\n",
    "print('1')\n",
    "deco(hello)()\n",
    "print('')\n",
    "\n",
    "print('2')\n",
    "deco_hello = deco(hello)\n",
    "hello()\n",
    "deco_hello()\n",
    "print('')\n",
    "\n",
    "print('3')\n",
    "hello2()"
   ]
  },
  {
   "cell_type": "markdown",
   "metadata": {},
   "source": [
    "# 클래스 메소드 vs 정적 메소드\n",
    "\n",
    "@classmethod\n",
    " - 클래스 메소드를 정의할 때 사용하는 데코레이터\n",
    " - 인스턴스가 아닌 클래스 자체\n",
    " - 첫 번째 인자로 self 대신 cls를 받고, cls는 호출된 클래스 자체를 나타냄\n",
    "\n",
    "@static_method\n",
    " - 정적 메소드를 정의할 때 사용하는 데코레이터\n",
    " - self 혹은 cls를 받지 않고 인스턴스나 클래스 변수에 접근할 수 없음\n",
    " - 클래스에 논리적으로 속하지만 클래스 상태와는 무관할 때 -> 코드 가독성을 위해\n",
    " - 호출 시점에 인스턴스나 클래스의 상태를 필요로 하지 않고 고정된 작업"
   ]
  },
  {
   "cell_type": "code",
   "execution_count": 42,
   "metadata": {},
   "outputs": [
    {
     "name": "stdout",
     "output_type": "stream",
     "text": [
      "instance_variable: 15\n",
      "class_variable: 35\n",
      "class_variable (from class method): 40\n",
      "static_method called!\n"
     ]
    }
   ],
   "source": [
    "class MyClass:\n",
    "    class_variable = 0  # 클래스 변수\n",
    "    def __init__(self, value):\n",
    "        self.instance_variable = value  # 인스턴스 변수\n",
    "        MyClass.class_variable += value  # 생성 시 클래스 변수 증가\n",
    "    # 일반 메서드\n",
    "    def instance_method(self, value):\n",
    "        self.instance_variable += value  # 인스턴스 변수에 접근\n",
    "        MyClass.class_variable += value  # 클래스 변수에도 접근 가능\n",
    "        print(f\"instance_variable: {self.instance_variable}\")\n",
    "        print(f\"class_variable: {MyClass.class_variable}\")\n",
    "    # 클래스 메서드\n",
    "    @classmethod\n",
    "    def class_method(cls, value):\n",
    "        cls.class_variable += value  # 클래스 변수에 접근\n",
    "        print(f\"class_variable (from class method): {cls.class_variable}\")\n",
    "    # 정적 메서드\n",
    "    @staticmethod\n",
    "    def static_method():\n",
    "        print(\"static_method called!\")\n",
    "# 객체 생성\n",
    "instance1 = MyClass(10)\n",
    "instance2 = MyClass(20)\n",
    "# 일반 메서드 호출\n",
    "instance1.instance_method(5)\n",
    "# instance_variable: 15\n",
    "# class_variable: 35\n",
    "# 클래스 메서드 호출\n",
    "MyClass.class_method(5)\n",
    "# class_variable (from class method): 40\n",
    "# 정적 메서드 호출\n",
    "MyClass.static_method()\n",
    "# static_method called!"
   ]
  },
  {
   "cell_type": "markdown",
   "metadata": {},
   "source": [
    "# 상속"
   ]
  },
  {
   "cell_type": "code",
   "execution_count": null,
   "metadata": {},
   "outputs": [
    {
     "name": "stdout",
     "output_type": "stream",
     "text": [
      "국가 클래스의 메소드입니다.\n",
      "국가 이름은 대한민국\n"
     ]
    }
   ],
   "source": [
    "# 상속\n",
    "class Country :\n",
    "    '''Super class'''\n",
    "    name = '국가명'\n",
    "    population = '인구'\n",
    "    capital = '수도'\n",
    "\n",
    "    def show(self) :\n",
    "        print('국가 클래스의 메소드입니다.')\n",
    "\n",
    "class Korea(Country) :\n",
    "    '''Sub class'''\n",
    "    def __init__(self, name):\n",
    "        self.name = name\n",
    "\n",
    "    def show_name(self):\n",
    "        print('국가 이름은', self.name)\n",
    "\n",
    "k = Korea('대한민국')\n",
    "k.show()\n",
    "k.show_name()"
   ]
  },
  {
   "cell_type": "code",
   "execution_count": 21,
   "metadata": {},
   "outputs": [
    {
     "name": "stdout",
     "output_type": "stream",
     "text": [
      "국가 이름은 대한민국\n"
     ]
    }
   ],
   "source": [
    "# 메소드 오버라이딩\n",
    "\n",
    "class Country :\n",
    "    '''Super class'''\n",
    "    name = '국가명'\n",
    "    population = '인구'\n",
    "    capital = '수도'\n",
    "\n",
    "    def show(self) :\n",
    "        print('국가 클래스의 메소드입니다.')\n",
    "\n",
    "class Korea(Country) :\n",
    "    '''Sub class'''\n",
    "    def __init__(self, name, population, capital):\n",
    "        self.name = name\n",
    "        self.population = population\n",
    "        self.capital = capital\n",
    "\n",
    "    def show(self):                 #메소드 오버라이딩\n",
    "        print('국가 이름은', self.name)\n",
    "\n",
    "    \n",
    "\n",
    "k = Korea('대한민국', 50000000, '서울')\n",
    "k.show()"
   ]
  },
  {
   "cell_type": "code",
   "execution_count": 30,
   "metadata": {},
   "outputs": [
    {
     "name": "stdout",
     "output_type": "stream",
     "text": [
      "국가명은 대한민국\n",
      "인구은 50000000\n",
      "수도은 서울\n"
     ]
    }
   ],
   "source": [
    "# super()\n",
    "# 부모클래스의 변수나 함수를 직접적으로 사용\n",
    "\n",
    "\n",
    "class Country :\n",
    "    '''Super class'''\n",
    "    name = '국가명'\n",
    "    population = '인구'\n",
    "    capital = '수도'\n",
    "\n",
    "    def show(self) :\n",
    "        print('국가 클래스의 메소드입니다.')\n",
    "\n",
    "class Korea(Country) :\n",
    "    '''Sub class'''\n",
    "    def __init__(self, name, population, capital):\n",
    "        self.name = name\n",
    "        self.population = population\n",
    "        self.capital = capital\n",
    "\n",
    "    def show(self):                 #메소드 오버라이딩\n",
    "        print(f'{super().name}은', self.name)\n",
    "        print(f'{super().population}는', self.population)\n",
    "        print(f'{super().capital}는', self.capital)         #super().변수 -> 오버라이딩 했지만 Country 클래스의 변수 사용\n",
    "\n",
    "    \n",
    "\n",
    "k = Korea('대한민국', 50000000, '서울')\n",
    "k.show()\n"
   ]
  },
  {
   "cell_type": "markdown",
   "metadata": {},
   "source": [
    "# 예외 처리\n",
    "\n",
    "오류 발생시 어떻게 처리할 것인가?"
   ]
  },
  {
   "cell_type": "code",
   "execution_count": 32,
   "metadata": {},
   "outputs": [
    {
     "name": "stdout",
     "output_type": "stream",
     "text": [
      "예외 오류 발생\n"
     ]
    }
   ],
   "source": [
    "try :\n",
    "    print(10/0)\n",
    "except :\n",
    "    print('예외 오류 발생')"
   ]
  },
  {
   "cell_type": "code",
   "execution_count": 37,
   "metadata": {},
   "outputs": [
    {
     "name": "stdout",
     "output_type": "stream",
     "text": [
      "유효한 숫자를 입력하세요.\n"
     ]
    }
   ],
   "source": [
    "try :\n",
    "    x = int(input('숫자를 입력하세요 :'))\n",
    "    print(10/x)\n",
    "except ZeroDivisionError :\n",
    "    print('0으로 나눌 수 없습니다.')\n",
    "except ValueError :\n",
    "    print('유효한 숫자를 입력하세요.')"
   ]
  },
  {
   "cell_type": "code",
   "execution_count": null,
   "metadata": {},
   "outputs": [
    {
     "name": "stdout",
     "output_type": "stream",
     "text": [
      "0으로 나눌 수 없습니다.\n",
      "프로그램이 종료되었습니다.\n"
     ]
    }
   ],
   "source": [
    "try :\n",
    "    x = int(input('숫자를 입력하세요 :'))\n",
    "    print(10/x)\n",
    "except ZeroDivisionError :\n",
    "    print('0으로 나눌 수 없습니다.')\n",
    "except ValueError :\n",
    "    print('유효한 숫자를 입력하세요.')\n",
    "else :                                  # except문이 실행되지 않을 경우\n",
    "    print('성공적으로 실행되었습니다.')\n",
    "finally :\n",
    "    print('프로그램이 종료되었습니다.')     # 나중에 파일을 열었을 때 결국 닫아줘야 하는데 이때 쓰면 유용함"
   ]
  },
  {
   "cell_type": "code",
   "execution_count": 43,
   "metadata": {},
   "outputs": [
    {
     "name": "stdout",
     "output_type": "stream",
     "text": [
      "오류가 발생했습니다 : invalid literal for int() with base 10: ''\n"
     ]
    }
   ],
   "source": [
    "try :\n",
    "    x = int(input('숫자를 입력하세요 :'))\n",
    "    print(10/x)\n",
    "\n",
    "except Exception as e :\n",
    "    print(f'오류가 발생했습니다 : {e}')"
   ]
  },
  {
   "cell_type": "markdown",
   "metadata": {},
   "source": [
    "# 모듈/패키지/라이브러리\n",
    "\n",
    "- 함수와 변수를 묶어서 -> 모듈\n",
    "- 모듈을 모아서 -> 패키지, 혹은 라이브러리\n",
    "\n",
    "* 라이브러리>>패키지>>모듈\n",
    "\n",
    "ex. 가게(library) -> 마실 것, 먹을 것(package) -> 콜라, 주스(마실 것 패키지 안의 module)"
   ]
  }
 ],
 "metadata": {
  "kernelspec": {
   "display_name": "study",
   "language": "python",
   "name": "python3"
  },
  "language_info": {
   "codemirror_mode": {
    "name": "ipython",
    "version": 3
   },
   "file_extension": ".py",
   "mimetype": "text/x-python",
   "name": "python",
   "nbconvert_exporter": "python",
   "pygments_lexer": "ipython3",
   "version": "3.12.7"
  }
 },
 "nbformat": 4,
 "nbformat_minor": 2
}
