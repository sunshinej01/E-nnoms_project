{
 "cells": [
  {
   "cell_type": "code",
   "execution_count": 1,
   "metadata": {},
   "outputs": [
    {
     "name": "stdout",
     "output_type": "stream",
     "text": [
      " 1  2  3  4  5 \n",
      "16 17 18 19  6 \n",
      "15 24 25 20  7 \n",
      "14 23 22 21  8 \n",
      "13 12 11 10  9 \n"
     ]
    }
   ],
   "source": [
    "N = 5\n",
    "arr = [[0] * N for _ in range(N)]\n",
    "num = 0  # 배열에 넣을 숫자\n",
    "y = 0  # 줄 위치\n",
    "x = -1  # 칸 위치\n",
    "size = N  # 배열 크기\n",
    "step = 1  # 증가/감소 크기: 1, -1\n",
    "\n",
    "while size > 0:\n",
    "    for _ in range(size):   # 가로로 이동\n",
    "        x += step\n",
    "        num += 1\n",
    "        arr[y][x] = num\n",
    "    size -= 1\n",
    "    for _ in range(size):   # 세로로 이동\n",
    "        y += step\n",
    "        num += 1\n",
    "        arr[y][x] = num\n",
    "    step *= -1\n",
    "for i in range(N):\n",
    "    for j in range(N):\n",
    "        print(\"%2d \" % arr[i][j], end='')\n",
    "    print()"
   ]
  },
  {
   "cell_type": "code",
   "execution_count": null,
   "metadata": {},
   "outputs": [
    {
     "name": "stdout",
     "output_type": "stream",
     "text": [
      "hello\n"
     ]
    }
   ],
   "source": []
  },
  {
   "cell_type": "code",
   "execution_count": null,
   "metadata": {},
   "outputs": [],
   "source": []
  }
 ],
 "metadata": {
  "kernelspec": {
   "display_name": "study",
   "language": "python",
   "name": "python3"
  },
  "language_info": {
   "codemirror_mode": {
    "name": "ipython",
    "version": 3
   },
   "file_extension": ".py",
   "mimetype": "text/x-python",
   "name": "python",
   "nbconvert_exporter": "python",
   "pygments_lexer": "ipython3",
   "version": "3.12.7"
  }
 },
 "nbformat": 4,
 "nbformat_minor": 2
}
